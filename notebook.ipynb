{
 "cells": [
  {
   "cell_type": "markdown",
   "id": "89499738-7be5-4144-81f7-9de6f6681be7",
   "metadata": {},
   "source": [
    "# Initialization"
   ]
  },
  {
   "cell_type": "code",
   "execution_count": 1,
   "id": "f6986f25-eefe-4f56-9f11-89cee09d4505",
   "metadata": {
    "execution": {
     "iopub.execute_input": "2023-03-23T05:31:09.573686Z",
     "iopub.status.busy": "2023-03-23T05:31:09.573412Z",
     "iopub.status.idle": "2023-03-23T05:31:09.585023Z",
     "shell.execute_reply": "2023-03-23T05:31:09.584675Z",
     "shell.execute_reply.started": "2023-03-23T05:31:09.573662Z"
    },
    "tags": []
   },
   "outputs": [],
   "source": [
    "from complex_number import Complex"
   ]
  },
  {
   "cell_type": "code",
   "execution_count": 2,
   "id": "a3bc0400-0a74-4fa1-8d25-4a98cd8c4ac9",
   "metadata": {
    "execution": {
     "iopub.execute_input": "2023-03-23T05:31:09.586763Z",
     "iopub.status.busy": "2023-03-23T05:31:09.586561Z",
     "iopub.status.idle": "2023-03-23T05:31:09.591244Z",
     "shell.execute_reply": "2023-03-23T05:31:09.590461Z",
     "shell.execute_reply.started": "2023-03-23T05:31:09.586748Z"
    },
    "tags": []
   },
   "outputs": [
    {
     "name": "stdout",
     "output_type": "stream",
     "text": [
      "a=1+2i b=5+3i\n"
     ]
    }
   ],
   "source": [
    "a = Complex(1, 2)\n",
    "b = Complex(5, 3)\n",
    "print(f'{a=} {b=}')"
   ]
  },
  {
   "cell_type": "markdown",
   "id": "171e93b2-90f0-44ed-9133-932adfd6446b",
   "metadata": {},
   "source": [
    "# Addition and Subtraction"
   ]
  },
  {
   "cell_type": "markdown",
   "id": "ce0bdbc5-2c52-4a27-b036-f0c9f629cb39",
   "metadata": {},
   "source": [
    "## Complex with Complex"
   ]
  },
  {
   "cell_type": "code",
   "execution_count": 3,
   "id": "5ab78936-18ea-4165-b8dd-c997a2c86be6",
   "metadata": {
    "execution": {
     "iopub.execute_input": "2023-03-23T05:31:09.592234Z",
     "iopub.status.busy": "2023-03-23T05:31:09.592112Z",
     "iopub.status.idle": "2023-03-23T05:31:09.595437Z",
     "shell.execute_reply": "2023-03-23T05:31:09.595050Z",
     "shell.execute_reply.started": "2023-03-23T05:31:09.592220Z"
    },
    "tags": []
   },
   "outputs": [
    {
     "name": "stdout",
     "output_type": "stream",
     "text": [
      "a+b=6+5i\n"
     ]
    }
   ],
   "source": [
    "print(f'{a+b=}')"
   ]
  },
  {
   "cell_type": "code",
   "execution_count": 4,
   "id": "09a3f764-5902-436f-97af-5fd39e53925e",
   "metadata": {
    "execution": {
     "iopub.execute_input": "2023-03-23T05:31:09.596345Z",
     "iopub.status.busy": "2023-03-23T05:31:09.596225Z",
     "iopub.status.idle": "2023-03-23T05:31:09.599351Z",
     "shell.execute_reply": "2023-03-23T05:31:09.598750Z",
     "shell.execute_reply.started": "2023-03-23T05:31:09.596333Z"
    },
    "tags": []
   },
   "outputs": [
    {
     "name": "stdout",
     "output_type": "stream",
     "text": [
      "a-b=-4-1i\n"
     ]
    }
   ],
   "source": [
    "print(f'{a-b=}')"
   ]
  },
  {
   "cell_type": "markdown",
   "id": "8a702fea-6b43-4ca7-a84b-b33adbf143b1",
   "metadata": {
    "tags": []
   },
   "source": [
    "## Complex with int and float"
   ]
  },
  {
   "cell_type": "code",
   "execution_count": 5,
   "id": "581fb087-d0bf-49c0-a60f-9b3b017e58c4",
   "metadata": {
    "execution": {
     "iopub.execute_input": "2023-03-23T05:31:09.600535Z",
     "iopub.status.busy": "2023-03-23T05:31:09.600332Z",
     "iopub.status.idle": "2023-03-23T05:31:09.602938Z",
     "shell.execute_reply": "2023-03-23T05:31:09.602544Z",
     "shell.execute_reply.started": "2023-03-23T05:31:09.600520Z"
    },
    "tags": []
   },
   "outputs": [
    {
     "name": "stdout",
     "output_type": "stream",
     "text": [
      "1+a=2+2i\n"
     ]
    }
   ],
   "source": [
    "print(f'{1+a=}')"
   ]
  },
  {
   "cell_type": "code",
   "execution_count": 6,
   "id": "c5353896-cc93-4720-9d1f-6c0500c5cd48",
   "metadata": {
    "execution": {
     "iopub.execute_input": "2023-03-23T05:31:09.603792Z",
     "iopub.status.busy": "2023-03-23T05:31:09.603633Z",
     "iopub.status.idle": "2023-03-23T05:31:09.606310Z",
     "shell.execute_reply": "2023-03-23T05:31:09.605807Z",
     "shell.execute_reply.started": "2023-03-23T05:31:09.603780Z"
    },
    "tags": []
   },
   "outputs": [
    {
     "name": "stdout",
     "output_type": "stream",
     "text": [
      "b-3.5=1.5+3i\n"
     ]
    }
   ],
   "source": [
    "print(f'{b-3.5=}')"
   ]
  },
  {
   "cell_type": "markdown",
   "id": "61dc552d-d6e0-454f-a41a-57a9f23f8fe4",
   "metadata": {
    "execution": {
     "iopub.execute_input": "2023-03-23T05:25:12.150940Z",
     "iopub.status.busy": "2023-03-23T05:25:12.150618Z",
     "iopub.status.idle": "2023-03-23T05:25:12.153882Z",
     "shell.execute_reply": "2023-03-23T05:25:12.153215Z",
     "shell.execute_reply.started": "2023-03-23T05:25:12.150916Z"
    },
    "tags": []
   },
   "source": [
    "# Multiplication and Square"
   ]
  },
  {
   "cell_type": "markdown",
   "id": "5a7b0683-ce08-4a08-9c56-e8530b0e561c",
   "metadata": {},
   "source": [
    "## Complex with Complex"
   ]
  },
  {
   "cell_type": "code",
   "execution_count": 7,
   "id": "42cf8ecf-e7da-4c1a-9ed5-331602b17c2c",
   "metadata": {
    "execution": {
     "iopub.execute_input": "2023-03-23T05:31:09.609602Z",
     "iopub.status.busy": "2023-03-23T05:31:09.609289Z",
     "iopub.status.idle": "2023-03-23T05:31:09.614608Z",
     "shell.execute_reply": "2023-03-23T05:31:09.614160Z",
     "shell.execute_reply.started": "2023-03-23T05:31:09.609588Z"
    },
    "tags": []
   },
   "outputs": [
    {
     "name": "stdout",
     "output_type": "stream",
     "text": [
      "a*b=-1+13i\n"
     ]
    }
   ],
   "source": [
    "print(f'{a*b=}')"
   ]
  },
  {
   "cell_type": "code",
   "execution_count": 8,
   "id": "f5ed7bf8-9545-4fcf-8fcc-f6d565b6ed66",
   "metadata": {
    "execution": {
     "iopub.execute_input": "2023-03-23T05:31:09.616682Z",
     "iopub.status.busy": "2023-03-23T05:31:09.616065Z",
     "iopub.status.idle": "2023-03-23T05:31:09.621425Z",
     "shell.execute_reply": "2023-03-23T05:31:09.621009Z",
     "shell.execute_reply.started": "2023-03-23T05:31:09.616662Z"
    },
    "tags": []
   },
   "outputs": [
    {
     "name": "stdout",
     "output_type": "stream",
     "text": [
      "b**2=16+30i\n"
     ]
    }
   ],
   "source": [
    "print(f'{b**2=}')"
   ]
  },
  {
   "cell_type": "markdown",
   "id": "6c0d8b74-105a-4aef-97d7-d1592a19d747",
   "metadata": {},
   "source": [
    "## Complex with int and float"
   ]
  },
  {
   "cell_type": "code",
   "execution_count": 9,
   "id": "dde411c6-511e-455d-9120-9ebe187ee512",
   "metadata": {
    "execution": {
     "iopub.execute_input": "2023-03-23T05:31:09.622337Z",
     "iopub.status.busy": "2023-03-23T05:31:09.622214Z",
     "iopub.status.idle": "2023-03-23T05:31:09.625705Z",
     "shell.execute_reply": "2023-03-23T05:31:09.625277Z",
     "shell.execute_reply.started": "2023-03-23T05:31:09.622325Z"
    },
    "tags": []
   },
   "outputs": [
    {
     "name": "stdout",
     "output_type": "stream",
     "text": [
      "-2.5-1.5i\n"
     ]
    }
   ],
   "source": [
    "print(f'{-0.5*b}')"
   ]
  },
  {
   "cell_type": "markdown",
   "id": "0681f89b-511d-48f7-aee4-bb6103560f30",
   "metadata": {},
   "source": [
    "# Reciprocal and Division"
   ]
  },
  {
   "cell_type": "markdown",
   "id": "d3f7fab8-cde0-4a47-a676-0e795882c490",
   "metadata": {},
   "source": [
    "## Reciprocal"
   ]
  },
  {
   "cell_type": "code",
   "execution_count": 10,
   "id": "134e6386-c8b6-408e-bbd3-1cab7ac24c40",
   "metadata": {
    "execution": {
     "iopub.execute_input": "2023-03-23T05:31:09.626793Z",
     "iopub.status.busy": "2023-03-23T05:31:09.626509Z",
     "iopub.status.idle": "2023-03-23T05:31:09.630013Z",
     "shell.execute_reply": "2023-03-23T05:31:09.629381Z",
     "shell.execute_reply.started": "2023-03-23T05:31:09.626779Z"
    },
    "tags": []
   },
   "outputs": [
    {
     "name": "stdout",
     "output_type": "stream",
     "text": [
      "1/a=0.2-0.4i\n"
     ]
    }
   ],
   "source": [
    "print(f'{1/a=}')"
   ]
  },
  {
   "cell_type": "markdown",
   "id": "3253ac98-b018-4c44-9272-ff4d0262d0d6",
   "metadata": {},
   "source": [
    "## Complex with Complex"
   ]
  },
  {
   "cell_type": "code",
   "execution_count": 11,
   "id": "a162e5cd-f08c-44f2-9247-e177166c738a",
   "metadata": {
    "execution": {
     "iopub.execute_input": "2023-03-23T05:31:09.631546Z",
     "iopub.status.busy": "2023-03-23T05:31:09.631293Z",
     "iopub.status.idle": "2023-03-23T05:31:09.634630Z",
     "shell.execute_reply": "2023-03-23T05:31:09.634240Z",
     "shell.execute_reply.started": "2023-03-23T05:31:09.631472Z"
    },
    "tags": []
   },
   "outputs": [
    {
     "name": "stdout",
     "output_type": "stream",
     "text": [
      "b/a=2.2-1.4i\n"
     ]
    }
   ],
   "source": [
    "print(f'{b/a=}')"
   ]
  },
  {
   "cell_type": "markdown",
   "id": "5aa66b79-32dd-4688-be36-6e2f9d94e5fa",
   "metadata": {},
   "source": [
    "## Complex with int and float"
   ]
  },
  {
   "cell_type": "code",
   "execution_count": 12,
   "id": "0818157d-1621-407f-a4a2-5dfabf1bc724",
   "metadata": {
    "execution": {
     "iopub.execute_input": "2023-03-23T05:31:09.635442Z",
     "iopub.status.busy": "2023-03-23T05:31:09.635330Z",
     "iopub.status.idle": "2023-03-23T05:31:09.639300Z",
     "shell.execute_reply": "2023-03-23T05:31:09.638333Z",
     "shell.execute_reply.started": "2023-03-23T05:31:09.635430Z"
    },
    "tags": []
   },
   "outputs": [
    {
     "name": "stdout",
     "output_type": "stream",
     "text": [
      "a/2=0.5+i\n"
     ]
    }
   ],
   "source": [
    "print(f'{a/2=}')"
   ]
  },
  {
   "cell_type": "code",
   "execution_count": 13,
   "id": "eb50e45f-0958-477b-9bee-396aae431f74",
   "metadata": {
    "execution": {
     "iopub.execute_input": "2023-03-23T05:31:09.640680Z",
     "iopub.status.busy": "2023-03-23T05:31:09.640463Z",
     "iopub.status.idle": "2023-03-23T05:31:09.644333Z",
     "shell.execute_reply": "2023-03-23T05:31:09.643711Z",
     "shell.execute_reply.started": "2023-03-23T05:31:09.640659Z"
    },
    "tags": []
   },
   "outputs": [
    {
     "name": "stdout",
     "output_type": "stream",
     "text": [
      "2.5/a=0.5-1.0i\n"
     ]
    }
   ],
   "source": [
    "print(f'{2.5/a=}')"
   ]
  }
 ],
 "metadata": {
  "kernelspec": {
   "display_name": "Python 3 (ipykernel)",
   "language": "python",
   "name": "python3"
  },
  "language_info": {
   "codemirror_mode": {
    "name": "ipython",
    "version": 3
   },
   "file_extension": ".py",
   "mimetype": "text/x-python",
   "name": "python",
   "nbconvert_exporter": "python",
   "pygments_lexer": "ipython3",
   "version": "3.11.2"
  }
 },
 "nbformat": 4,
 "nbformat_minor": 5
}
